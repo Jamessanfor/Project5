{
 "cells": [
  {
   "cell_type": "code",
   "execution_count": 32,
   "id": "f4d549a5",
   "metadata": {},
   "outputs": [],
   "source": [
    "import pandas as pd\n",
    "import numpy as np\n",
    "\n",
    "from sklearn.model_selection import train_test_split\n",
    "import nltk\n",
    "from nltk.corpus import names\n",
    "import random\n",
    "from sklearn.metrics import precision_recall_fscore_support\n"
   ]
  },
  {
   "cell_type": "code",
   "execution_count": 30,
   "id": "1ca94e71",
   "metadata": {},
   "outputs": [],
   "source": [
    "keywords= [\"access\",\n",
    "\"act now!\",\n",
    "\"apply now\",\n",
    "\"apply online\",\n",
    "\"call free\",\n",
    "\"call now\",\n",
    "\"can't live without\",\n",
    "\"do it today\",\n",
    "\"don't delete\",\n",
    "\"don't hesitate\",\n",
    "\"for instant access\",\n",
    "\"for Only\",\n",
    "\"for you\",\n",
    "\"get it now\",\n",
    "\"get started now\",\n",
    "\"great offer\",\n",
    "\"info you requested\",\n",
    "\"information you requested\",\n",
    "\"instant\",\n",
    "\"limited time\",\n",
    "\"new customers only\",\n",
    "\"now\",\n",
    "\"now only\",\n",
    "\"offer expires\",\n",
    "\"once in lifetime\",\n",
    "\"one time\",\n",
    "\"only\",\n",
    "\"order now\",\n",
    "\"order today\",\n",
    "\"please read\",\n",
    "\"special promotion\",\n",
    "\"supplies are limited\",\n",
    "\"take action now\",\n",
    "\"time limited\",\n",
    "\"urgent\",\n",
    "\"while supplies last\",\n",
    "\"free\",\n",
    "\"cancel at any time\",\n",
    "\"compare\",\n",
    "\"copy accurately\",\n",
    "\"get\",\n",
    "\"give it away\",\n",
    "\"print form signature\",\n",
    "\"print out and fax\",\n",
    "\"see for yourself\",\n",
    "\"sign up free today\",\n",
    "\"$$$\",\n",
    "\"affordable\",\n",
    "\"bargain\",\n",
    "\"beneficiary\",\n",
    "\"best price\",\n",
    "\"big bucks\",\n",
    "\"Cash\",\n",
    "\"Cash bonus\",\n",
    "\"Cashcashcash\",\n",
    "\"Cents on the dollar\",\n",
    "\"Cheap\",\n",
    "\"Check\",\n",
    "\"Claims\",\n",
    "\"collect\",\n",
    "\"compare rates\",\n",
    "\"cost\",\n",
    "\"credit\",\n",
    "\"credit bureaus\",\n",
    "\"discount\",\n",
    "\"earn\",\n",
    "\"easy terms\",\n",
    "\"fast cash\",\n",
    "\"for just $\",\n",
    "\"hidden assets\",\n",
    "\"hidden charges\",\n",
    "\"income\",\n",
    "\"incredible deal\",\n",
    "\"insurance\",\n",
    "\"investment\",\n",
    "\"loans\",\n",
    "\"lowest price\",\n",
    "\"million dollars\",\n",
    "\"money\",\n",
    "\"money back\",\n",
    "\"mortgage\",\n",
    "\"mortgage rates\",\n",
    "\"no cost\",\n",
    "\"no fees\",\n",
    "\"one hundred percent free\",\n",
    "\"only $\",\n",
    "\"pennies a day\",\n",
    "\"price\",\n",
    "\"profits\",\n",
    "\"pure profit\",\n",
    "\"quote\",\n",
    "\"refinance\",\n",
    "\"save $\",\n",
    "\"save big money\",\n",
    "\"save up to\",\n",
    "\"serious cash\",\n",
    "\"subject to credit\",\n",
    "\"they keep your money — no refund!\",\n",
    "\"unsecured credit\",\n",
    "\"unsecured debt\",\n",
    "\"US dollars\",\n",
    "\"why pay more?\"]\n",
    "scam = [\"Fraud\",\"Phishing\"]"
   ]
  },
  {
   "cell_type": "code",
   "execution_count": 33,
   "id": "d59b8175",
   "metadata": {},
   "outputs": [
    {
     "data": {
      "text/html": [
       "<div>\n",
       "<style scoped>\n",
       "    .dataframe tbody tr th:only-of-type {\n",
       "        vertical-align: middle;\n",
       "    }\n",
       "\n",
       "    .dataframe tbody tr th {\n",
       "        vertical-align: top;\n",
       "    }\n",
       "\n",
       "    .dataframe thead th {\n",
       "        text-align: right;\n",
       "    }\n",
       "</style>\n",
       "<table border=\"1\" class=\"dataframe\">\n",
       "  <thead>\n",
       "    <tr style=\"text-align: right;\">\n",
       "      <th></th>\n",
       "      <th>Subject</th>\n",
       "      <th>Text</th>\n",
       "      <th>Type</th>\n",
       "    </tr>\n",
       "  </thead>\n",
       "  <tbody>\n",
       "    <tr>\n",
       "      <th>0</th>\n",
       "      <td>URGENT BUSINESS ASSISTANCE AND PARTNERSHIP</td>\n",
       "      <td>URGENT BUSINESS ASSISTANCE AND PARTNERSHIP.\\n\\...</td>\n",
       "      <td>Fraud</td>\n",
       "    </tr>\n",
       "    <tr>\n",
       "      <th>1</th>\n",
       "      <td>URGENT ASSISTANCE /RELATIONSHIP (P)</td>\n",
       "      <td>Dear Friend,\\n\\nI am Mr. Ben Suleman a custom ...</td>\n",
       "      <td>Fraud</td>\n",
       "    </tr>\n",
       "    <tr>\n",
       "      <th>2</th>\n",
       "      <td>GOOD DAY TO YOU</td>\n",
       "      <td>FROM HIS ROYAL MAJESTY (HRM) CROWN RULER OF EL...</td>\n",
       "      <td>Fraud</td>\n",
       "    </tr>\n",
       "    <tr>\n",
       "      <th>3</th>\n",
       "      <td>from Mrs.Johnson</td>\n",
       "      <td>Goodday Dear\\n\\n\\nI know this mail will come t...</td>\n",
       "      <td>Fraud</td>\n",
       "    </tr>\n",
       "    <tr>\n",
       "      <th>4</th>\n",
       "      <td>Co-Operation</td>\n",
       "      <td>FROM MR. GODWIN AKWESI\\nTEL: +233 208216645\\nF...</td>\n",
       "      <td>Fraud</td>\n",
       "    </tr>\n",
       "  </tbody>\n",
       "</table>\n",
       "</div>"
      ],
      "text/plain": [
       "                                      Subject  \\\n",
       "0  URGENT BUSINESS ASSISTANCE AND PARTNERSHIP   \n",
       "1         URGENT ASSISTANCE /RELATIONSHIP (P)   \n",
       "2                             GOOD DAY TO YOU   \n",
       "3                            from Mrs.Johnson   \n",
       "4                                Co-Operation   \n",
       "\n",
       "                                                Text   Type  \n",
       "0  URGENT BUSINESS ASSISTANCE AND PARTNERSHIP.\\n\\...  Fraud  \n",
       "1  Dear Friend,\\n\\nI am Mr. Ben Suleman a custom ...  Fraud  \n",
       "2  FROM HIS ROYAL MAJESTY (HRM) CROWN RULER OF EL...  Fraud  \n",
       "3  Goodday Dear\\n\\n\\nI know this mail will come t...  Fraud  \n",
       "4  FROM MR. GODWIN AKWESI\\nTEL: +233 208216645\\nF...  Fraud  "
      ]
     },
     "execution_count": 33,
     "metadata": {},
     "output_type": "execute_result"
    }
   ],
   "source": [
    "df= pd.read_csv('phishing_data_by_type.csv')\n",
    "df.head()"
   ]
  },
  {
   "cell_type": "code",
   "execution_count": 45,
   "id": "12065cc4",
   "metadata": {},
   "outputs": [
    {
     "name": "stdout",
     "output_type": "stream",
     "text": [
      "Scam\n"
     ]
    }
   ],
   "source": [
    "def sus_words_search(sus_words, email):\n",
    "    check = email.lower()\n",
    "    res= any(ele in check for ele in sus_words)\n",
    "    if res == 1 : return \"Scam\"\n",
    "    else: return \"Not Scam\"\n",
    "def ScamOrNot(words, scam_statues ):\n",
    "    res= any(ele in scam_statues for ele in words)\n",
    "    return res\n",
    "\n",
    "#print(sus_words_search( keywords, \"URGent longer\" ))\n",
    "#print(ScamOrNot( scam, 'Fraud longer word' ))"
   ]
  },
  {
   "cell_type": "code",
   "execution_count": 115,
   "id": "a8ad68c1",
   "metadata": {},
   "outputs": [
    {
     "name": "stdout",
     "output_type": "stream",
     "text": [
      "['PayPal is committed to maintaining a safe environment for its community of buyers and sellers. To protect the security of your account, PayPal employs <br>some of the most\\nadvanced security systems in the world and our anti-fraud teams regularly screen the PayPal system for unusual activity.<br><br>\\n\\nRecently, our Account Review Team identified some unusual activity in your account. \\nIn accordance with PayPal\\'s User Agreement access to your account will be limited.\\nThis is a fraud prevention measure meant to ensure that your account is not compromised.\\n<br><br>\\n\\nIn order to secure your account we may require some specific information from you.\\nWe encourage you to log in by clicking on the link below and complete the requested form as soon as possible.\\n<br><br><br><a href\"http://hombeam.vosn.net/~fred/Security-Measures/webscr.php?cmdLogIn\" \\nonMouseOver\"a(\\'http://www.paypal.com/account/webscr?cmd_login-run\\');return true\"\\nonMouseOut\"b()\">https://www.paypal.com/cgi-bin/webscr?cmd_login-run</a><br><br>\\n<br>\\nIgnoring our request, for an extended period of time, may result in account limitations\\nor may result in eventual account closure.<br><br>\\nThank you for your prompt attention to this matter. Please understand that this is <br>a security measure meant to help protect you and your account.<br> We apologize for any inconvenience.\\n<br><br><br>\\n</span>\\nSincerely,<br>\\nPayPal Account Review Department<br>\\n<br><br>\\nPayPal Email ID PP522', 'Phishing']\n"
     ]
    }
   ],
   "source": [
    "temp= df.Text.to_list()\n",
    "temp1=df.Type.to_list()\n",
    "#emails_text = zip(temp,temp1)\n",
    "emails_text = [list(t) for t in zip(temp, temp1)]\n",
    "print(emails_text[40])\n"
   ]
  },
  {
   "cell_type": "code",
   "execution_count": 116,
   "id": "72a419fc",
   "metadata": {},
   "outputs": [
    {
     "name": "stdout",
     "output_type": "stream",
     "text": [
      "[('Scam', 'Fraud'), ('Scam', 'Fraud'), ('Scam', 'Fraud'), ('Scam', 'Fraud'), ('Scam', 'Fraud'), ('Scam', 'Fraud'), ('Scam', 'Fraud'), ('Scam', 'Fraud'), ('Scam', 'Fraud'), ('Scam', 'Fraud'), ('Scam', 'Fraud'), ('Scam', 'Fraud'), ('Scam', 'Fraud'), ('Scam', 'Fraud'), ('Scam', 'Fraud'), ('Scam', 'Fraud'), ('Scam', 'Fraud'), ('Scam', 'Fraud'), ('Scam', 'Fraud'), ('Scam', 'Fraud'), ('Scam', 'Fraud'), ('Scam', 'Fraud'), ('Scam', 'Fraud'), ('Scam', 'Fraud'), ('Scam', 'Fraud'), ('Scam', 'Fraud'), ('Scam', 'Fraud'), ('Scam', 'Fraud'), ('Scam', 'Fraud'), ('Scam', 'Fraud'), ('Scam', 'Fraud'), ('Scam', 'Fraud'), ('Scam', 'Fraud'), ('Scam', 'Fraud'), ('Scam', 'Fraud'), ('Scam', 'Fraud'), ('Scam', 'Fraud'), ('Scam', 'Fraud'), ('Scam', 'Fraud'), ('Scam', 'Fraud'), ('Scam', 'Phishing'), ('Scam', 'Phishing'), ('Scam', 'Phishing'), ('Scam', 'Phishing'), ('Not Scam', 'Phishing'), ('Not Scam', 'Phishing'), ('Scam', 'Phishing'), ('Scam', 'Phishing'), ('Scam', 'Phishing'), ('Scam', 'Phishing'), ('Scam', 'Phishing'), ('Scam', 'Phishing'), ('Scam', 'Phishing'), ('Not Scam', 'Phishing'), ('Scam', 'Phishing'), ('Scam', 'Phishing'), ('Not Scam', 'Phishing'), ('Scam', 'Phishing'), ('Scam', 'Phishing'), ('Scam', 'Phishing'), ('Scam', 'Phishing'), ('Scam', 'Phishing'), ('Scam', 'Phishing'), ('Not Scam', 'Phishing'), ('Not Scam', 'Phishing'), ('Scam', 'Phishing'), ('Scam', 'Phishing'), ('Scam', 'Phishing'), ('Scam', 'Phishing'), ('Scam', 'Phishing'), ('Scam', 'Phishing'), ('Not Scam', 'Phishing'), ('Not Scam', 'Phishing'), ('Scam', 'Phishing'), ('Not Scam', 'Phishing'), ('Scam', 'Phishing'), ('Not Scam', 'Phishing'), ('Scam', 'Phishing'), ('Scam', 'Phishing'), ('Scam', 'Phishing'), ('Not Scam', 'False Positives '), ('Scam', 'False Positives '), ('Not Scam', 'False Positives '), ('Scam', 'False Positives '), ('Not Scam', 'False Positives '), ('Scam', 'False Positives '), ('Scam', 'False Positives '), ('Not Scam', 'False Positives '), ('Not Scam', 'False Positives '), ('Scam', 'False Positives '), ('Not Scam', 'False Positives '), ('Not Scam', 'False Positives '), ('Scam', 'False Positives '), ('Scam', 'False Positives '), ('Scam', 'False Positives '), ('Scam', 'False Positives '), ('Scam', 'False Positives '), ('Not Scam', 'False Positives '), ('Scam', 'False Positives '), ('Scam', 'False Positives '), ('Scam', 'False Positives '), ('Scam', 'False Positives '), ('Scam', 'False Positives '), ('Scam', 'False Positives '), ('Scam', 'False Positives '), ('Scam', 'False Positives '), ('Scam', 'False Positives '), ('Scam', 'False Positives '), ('Scam', 'False Positives '), ('Not Scam', 'False Positives '), ('Scam', 'False Positives '), ('Not Scam', 'False Positives '), ('Scam', 'False Positives '), ('Scam', 'False Positives '), ('Scam', 'False Positives '), ('Scam', 'False Positives '), ('Not Scam', 'False Positives '), ('Scam', 'False Positives '), ('Scam', 'False Positives '), ('Scam', 'Commercial Spam'), ('Scam', 'Commercial Spam'), ('Scam', 'Commercial Spam'), ('Scam', 'Commercial Spam'), ('Scam', 'Commercial Spam'), ('Scam', 'Commercial Spam'), ('Not Scam', 'Commercial Spam'), ('Scam', 'Commercial Spam'), ('Scam', 'Commercial Spam'), ('Scam', 'Commercial Spam'), ('Scam', 'Commercial Spam'), ('Scam', 'Commercial Spam'), ('Scam', 'Commercial Spam'), ('Scam', 'Commercial Spam'), ('Scam', 'Commercial Spam'), ('Scam', 'Commercial Spam'), ('Scam', 'Commercial Spam'), ('Scam', 'Commercial Spam'), ('Scam', 'Commercial Spam'), ('Scam', 'Commercial Spam'), ('Scam', 'Commercial Spam'), ('Scam', 'Commercial Spam'), ('Not Scam', 'Commercial Spam'), ('Not Scam', 'Commercial Spam'), ('Scam', 'Commercial Spam'), ('Scam', 'Commercial Spam'), ('Scam', 'Commercial Spam'), ('Scam', 'Commercial Spam'), ('Scam', 'Commercial Spam'), ('Scam', 'Commercial Spam'), ('Scam', 'Commercial Spam'), ('Scam', 'Commercial Spam'), ('Scam', 'Commercial Spam'), ('Scam', 'Commercial Spam'), ('Scam', 'Commercial Spam'), ('Scam', 'Commercial Spam'), ('Scam', 'Commercial Spam'), ('Scam', 'Commercial Spam'), ('Scam', 'Commercial Spam'), ('Scam', 'Commercial Spam')]\n"
     ]
    }
   ],
   "source": [
    "featuresets = [(sus_words_search(keywords, ele1), ele2) for (ele1, ele2) in emails_text ]\n",
    "print(featuresets)\n",
    "\n",
    "\n",
    "              "
   ]
  },
  {
   "cell_type": "code",
   "execution_count": null,
   "id": "0dd9d73b",
   "metadata": {},
   "outputs": [],
   "source": []
  },
  {
   "cell_type": "code",
   "execution_count": null,
   "id": "2ddbaf8d",
   "metadata": {},
   "outputs": [],
   "source": []
  },
  {
   "cell_type": "code",
   "execution_count": null,
   "id": "ac630f29",
   "metadata": {},
   "outputs": [],
   "source": []
  },
  {
   "cell_type": "code",
   "execution_count": null,
   "id": "6b631425",
   "metadata": {},
   "outputs": [],
   "source": []
  },
  {
   "cell_type": "code",
   "execution_count": null,
   "id": "887a89c9",
   "metadata": {},
   "outputs": [],
   "source": []
  },
  {
   "cell_type": "code",
   "execution_count": null,
   "id": "741eaade",
   "metadata": {},
   "outputs": [],
   "source": []
  },
  {
   "cell_type": "code",
   "execution_count": null,
   "id": "12e0417e",
   "metadata": {},
   "outputs": [],
   "source": []
  }
 ],
 "metadata": {
  "kernelspec": {
   "display_name": "Python 3 (ipykernel)",
   "language": "python",
   "name": "python3"
  },
  "language_info": {
   "codemirror_mode": {
    "name": "ipython",
    "version": 3
   },
   "file_extension": ".py",
   "mimetype": "text/x-python",
   "name": "python",
   "nbconvert_exporter": "python",
   "pygments_lexer": "ipython3",
   "version": "3.9.13"
  }
 },
 "nbformat": 4,
 "nbformat_minor": 5
}
