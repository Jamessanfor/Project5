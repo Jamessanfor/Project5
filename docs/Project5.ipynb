{
 "cells": [
  {
   "cell_type": "code",
   "execution_count": 258,
   "id": "f4d549a5",
   "metadata": {},
   "outputs": [],
   "source": [
    "import pandas as pd\n",
    "import numpy as np\n",
    "import seaborn as sns\n",
    "import matplotlib.pyplot as plt\n",
    "from sklearn.model_selection import train_test_split\n",
    "import nltk\n",
    "from nltk.corpus import names\n",
    "import random\n",
    "from sklearn.metrics import precision_recall_fscore_support\n"
   ]
  },
  {
   "cell_type": "code",
   "execution_count": 268,
   "id": "1ca94e71",
   "metadata": {},
   "outputs": [],
   "source": [
    "keywords= [\n",
    "\"act now!\",\n",
    "\"apply now\",\n",
    "\"apply online\",\n",
    "\"call free\",\n",
    "\"call now\",\n",
    "\"can't live without\",\n",
    "\"do it today\",\n",
    "\"don't delete\",\n",
    "\"don't hesitate\",\n",
    "\"for instant access\",\n",
    "\"for Only\",\n",
    "\"get it now\",\n",
    "\"get started now\",\n",
    "\"great offer\",\n",
    "\"info you requested\",\n",
    "\"information you requested\",\n",
    "\"instant\",\n",
    "\"limited time\",\n",
    "\"new customers only\",\n",
    "\"now only\",\n",
    "\"offer expires\",\n",
    "\"once in lifetime\",\n",
    "\"one time\",\n",
    "\"order now\",\n",
    "\"order today\",\n",
    "\"please read\",\n",
    "\"special promotion\",\n",
    "\"supplies are limited\",\n",
    "\"take action now\",\n",
    "\"time limited\",\n",
    "\"urgent\",\n",
    "\"while supplies last\",\n",
    "\"free\",\n",
    "\"cancel at any time\",\n",
    "\"copy accurately\",\n",
    "\"give it away\",\n",
    "\"print form signature\",\n",
    "\"print out and fax\",\n",
    "\"see for yourself\",\n",
    "\"sign up free today\",\n",
    "\"affordable\",\n",
    "\"bargain\",\n",
    "\"beneficiary\",\n",
    "\"best price\",\n",
    "\"big bucks\",\n",
    "\"cash\",\n",
    "\"cents on the dollar\",\n",
    "\"check\",\n",
    "\"claims\",\n",
    "\"collect\",\n",
    "\"compare rates\",\n",
    "\"cost\",\n",
    "\"credit\",\n",
    "\"credit bureaus\",\n",
    "\"discount\",\n",
    "\"easy terms\",\n",
    "\"fast cash\",\n",
    "\"for just $\",\n",
    "\"hidden assets\",\n",
    "\"hidden charges\",\n",
    "\"income\",\n",
    "\"incredible deal\",\n",
    "\"insurance\",\n",
    "\"investment\",\n",
    "\"loans\",\n",
    "\"lowest price\",\n",
    "\"million dollars\",\n",
    "\"money\",\n",
    "\"mortgage\",\n",
    "\"no cost\",\n",
    "\"no fees\",\n",
    "\"one hundred percent free\",\n",
    "\"only $\",\n",
    "\"pennies a day\",\n",
    "\"price\",\n",
    "\"profits\",\n",
    "\"pure profit\",\n",
    "\"refinance\",\n",
    "\"save $\",\n",
    "\"save big money\",\n",
    "\"save up to\",\n",
    "\"serious cash\",\n",
    "\"subject to credit\",\n",
    "\"they keep your money — no refund!\",\n",
    "\"unsecured credit\",\n",
    "\"unsecured debt\",\n",
    "\"US dollars\"]\n",
    "scam = [\"Fraud\",\"Phishing\",\"Commercial Spam\"]"
   ]
  },
  {
   "cell_type": "code",
   "execution_count": 260,
   "id": "d59b8175",
   "metadata": {},
   "outputs": [
    {
     "data": {
      "text/html": [
       "<div>\n",
       "<style scoped>\n",
       "    .dataframe tbody tr th:only-of-type {\n",
       "        vertical-align: middle;\n",
       "    }\n",
       "\n",
       "    .dataframe tbody tr th {\n",
       "        vertical-align: top;\n",
       "    }\n",
       "\n",
       "    .dataframe thead th {\n",
       "        text-align: right;\n",
       "    }\n",
       "</style>\n",
       "<table border=\"1\" class=\"dataframe\">\n",
       "  <thead>\n",
       "    <tr style=\"text-align: right;\">\n",
       "      <th></th>\n",
       "      <th>Subject</th>\n",
       "      <th>Text</th>\n",
       "      <th>Type</th>\n",
       "    </tr>\n",
       "  </thead>\n",
       "  <tbody>\n",
       "    <tr>\n",
       "      <th>0</th>\n",
       "      <td>URGENT BUSINESS ASSISTANCE AND PARTNERSHIP</td>\n",
       "      <td>URGENT BUSINESS ASSISTANCE AND PARTNERSHIP.\\n\\...</td>\n",
       "      <td>Fraud</td>\n",
       "    </tr>\n",
       "    <tr>\n",
       "      <th>1</th>\n",
       "      <td>URGENT ASSISTANCE /RELATIONSHIP (P)</td>\n",
       "      <td>Dear Friend,\\n\\nI am Mr. Ben Suleman a custom ...</td>\n",
       "      <td>Fraud</td>\n",
       "    </tr>\n",
       "    <tr>\n",
       "      <th>2</th>\n",
       "      <td>GOOD DAY TO YOU</td>\n",
       "      <td>FROM HIS ROYAL MAJESTY (HRM) CROWN RULER OF EL...</td>\n",
       "      <td>Fraud</td>\n",
       "    </tr>\n",
       "    <tr>\n",
       "      <th>3</th>\n",
       "      <td>from Mrs.Johnson</td>\n",
       "      <td>Goodday Dear\\n\\n\\nI know this mail will come t...</td>\n",
       "      <td>Fraud</td>\n",
       "    </tr>\n",
       "    <tr>\n",
       "      <th>4</th>\n",
       "      <td>Co-Operation</td>\n",
       "      <td>FROM MR. GODWIN AKWESI\\nTEL: +233 208216645\\nF...</td>\n",
       "      <td>Fraud</td>\n",
       "    </tr>\n",
       "  </tbody>\n",
       "</table>\n",
       "</div>"
      ],
      "text/plain": [
       "                                      Subject  \\\n",
       "0  URGENT BUSINESS ASSISTANCE AND PARTNERSHIP   \n",
       "1         URGENT ASSISTANCE /RELATIONSHIP (P)   \n",
       "2                             GOOD DAY TO YOU   \n",
       "3                            from Mrs.Johnson   \n",
       "4                                Co-Operation   \n",
       "\n",
       "                                                Text   Type  \n",
       "0  URGENT BUSINESS ASSISTANCE AND PARTNERSHIP.\\n\\...  Fraud  \n",
       "1  Dear Friend,\\n\\nI am Mr. Ben Suleman a custom ...  Fraud  \n",
       "2  FROM HIS ROYAL MAJESTY (HRM) CROWN RULER OF EL...  Fraud  \n",
       "3  Goodday Dear\\n\\n\\nI know this mail will come t...  Fraud  \n",
       "4  FROM MR. GODWIN AKWESI\\nTEL: +233 208216645\\nF...  Fraud  "
      ]
     },
     "execution_count": 260,
     "metadata": {},
     "output_type": "execute_result"
    }
   ],
   "source": [
    "df= pd.read_csv('phishing_data_by_type.csv')\n",
    "df.head()"
   ]
  },
  {
   "cell_type": "code",
   "execution_count": 270,
   "id": "12065cc4",
   "metadata": {},
   "outputs": [
    {
     "name": "stdout",
     "output_type": "stream",
     "text": [
      "{'trigger_words': 2}\n"
     ]
    }
   ],
   "source": [
    "\n",
    "def sus_words_search(keywords, email):\n",
    "    count=0;\n",
    "    email= email.lower()\n",
    "    for ele in keywords:\n",
    "        if ele in email:\n",
    "            count=count+1\n",
    "             \n",
    "    return {'trigger_words' : count}\n",
    "    \n",
    "    \n",
    "    \n",
    "def ScamOrNot(words, scam_statues ):\n",
    "    res= any(ele in scam_statues for ele in words)\n",
    "    if res == 1 : return  'Scam' \n",
    "    else: return  'Valid' \n",
    "\n",
    "print(sus_words_search( keywords, \"URGent act now!\" ))\n",
    "#print(ScamOrNot( scam, 'Fraud longer word' ))\n",
    "\n",
    "\n",
    "\n"
   ]
  },
  {
   "cell_type": "code",
   "execution_count": 271,
   "id": "a8ad68c1",
   "metadata": {},
   "outputs": [],
   "source": [
    "temp= df.Text.to_list()\n",
    "temp0=df.Type.to_list()\n",
    "temp1= [ScamOrNot(scam, ele) for (ele) in temp0]\n",
    "#print(temp1)\n",
    "#emails_text = zip(temp,temp1)\n",
    "emails_text = [list(t) for t in zip(temp, temp1)]\n"
   ]
  },
  {
   "cell_type": "code",
   "execution_count": 277,
   "id": "72a419fc",
   "metadata": {},
   "outputs": [
    {
     "name": "stdout",
     "output_type": "stream",
     "text": [
      "[({'trigger_words': 2}, 'Scam'), ({'trigger_words': 4}, 'Scam'), ({'trigger_words': 3}, 'Scam'), ({'trigger_words': 0}, 'Scam'), ({'trigger_words': 3}, 'Valid'), ({'trigger_words': 1}, 'Scam'), ({'trigger_words': 0}, 'Valid'), ({'trigger_words': 0}, 'Scam'), ({'trigger_words': 2}, 'Scam'), ({'trigger_words': 3}, 'Scam'), ({'trigger_words': 3}, 'Scam'), ({'trigger_words': 0}, 'Valid'), ({'trigger_words': 0}, 'Scam'), ({'trigger_words': 2}, 'Valid'), ({'trigger_words': 3}, 'Valid'), ({'trigger_words': 1}, 'Scam'), ({'trigger_words': 0}, 'Valid'), ({'trigger_words': 0}, 'Scam'), ({'trigger_words': 2}, 'Scam'), ({'trigger_words': 1}, 'Valid'), ({'trigger_words': 3}, 'Scam'), ({'trigger_words': 0}, 'Scam'), ({'trigger_words': 3}, 'Scam'), ({'trigger_words': 0}, 'Scam'), ({'trigger_words': 4}, 'Scam'), ({'trigger_words': 2}, 'Scam'), ({'trigger_words': 5}, 'Scam'), ({'trigger_words': 4}, 'Scam'), ({'trigger_words': 1}, 'Scam'), ({'trigger_words': 3}, 'Scam'), ({'trigger_words': 1}, 'Valid'), ({'trigger_words': 0}, 'Scam'), ({'trigger_words': 2}, 'Scam'), ({'trigger_words': 1}, 'Scam'), ({'trigger_words': 0}, 'Valid'), ({'trigger_words': 0}, 'Valid'), ({'trigger_words': 2}, 'Scam'), ({'trigger_words': 0}, 'Scam'), ({'trigger_words': 0}, 'Scam'), ({'trigger_words': 1}, 'Valid')]\n",
      "[({'trigger_words': 0}, 'Valid'), ({'trigger_words': 1}, 'Scam'), ({'trigger_words': 2}, 'Scam'), ({'trigger_words': 3}, 'Scam'), ({'trigger_words': 3}, 'Scam'), ({'trigger_words': 0}, 'Scam'), ({'trigger_words': 4}, 'Scam'), ({'trigger_words': 1}, 'Scam'), ({'trigger_words': 4}, 'Scam'), ({'trigger_words': 1}, 'Scam'), ({'trigger_words': 3}, 'Scam'), ({'trigger_words': 3}, 'Scam'), ({'trigger_words': 4}, 'Scam'), ({'trigger_words': 4}, 'Scam'), ({'trigger_words': 0}, 'Scam'), ({'trigger_words': 0}, 'Scam'), ({'trigger_words': 4}, 'Scam'), ({'trigger_words': 2}, 'Scam'), ({'trigger_words': 0}, 'Valid'), ({'trigger_words': 4}, 'Scam'), ({'trigger_words': 1}, 'Scam'), ({'trigger_words': 0}, 'Scam'), ({'trigger_words': 1}, 'Valid'), ({'trigger_words': 0}, 'Scam'), ({'trigger_words': 1}, 'Scam'), ({'trigger_words': 0}, 'Valid'), ({'trigger_words': 2}, 'Scam'), ({'trigger_words': 0}, 'Valid'), ({'trigger_words': 0}, 'Valid'), ({'trigger_words': 2}, 'Scam'), ({'trigger_words': 0}, 'Scam'), ({'trigger_words': 0}, 'Valid'), ({'trigger_words': 0}, 'Scam'), ({'trigger_words': 1}, 'Scam'), ({'trigger_words': 0}, 'Valid'), ({'trigger_words': 3}, 'Scam'), ({'trigger_words': 0}, 'Valid'), ({'trigger_words': 0}, 'Scam'), ({'trigger_words': 2}, 'Scam'), ({'trigger_words': 0}, 'Scam'), ({'trigger_words': 5}, 'Scam'), ({'trigger_words': 0}, 'Valid'), ({'trigger_words': 1}, 'Scam'), ({'trigger_words': 1}, 'Valid'), ({'trigger_words': 1}, 'Scam'), ({'trigger_words': 0}, 'Scam'), ({'trigger_words': 1}, 'Scam'), ({'trigger_words': 3}, 'Scam'), ({'trigger_words': 4}, 'Scam'), ({'trigger_words': 3}, 'Scam'), ({'trigger_words': 4}, 'Scam'), ({'trigger_words': 0}, 'Scam'), ({'trigger_words': 1}, 'Scam'), ({'trigger_words': 2}, 'Scam'), ({'trigger_words': 0}, 'Scam'), ({'trigger_words': 0}, 'Valid'), ({'trigger_words': 2}, 'Scam'), ({'trigger_words': 1}, 'Scam'), ({'trigger_words': 2}, 'Scam'), ({'trigger_words': 0}, 'Scam'), ({'trigger_words': 5}, 'Scam'), ({'trigger_words': 0}, 'Valid'), ({'trigger_words': 4}, 'Scam'), ({'trigger_words': 0}, 'Valid'), ({'trigger_words': 0}, 'Scam'), ({'trigger_words': 2}, 'Valid'), ({'trigger_words': 0}, 'Valid'), ({'trigger_words': 1}, 'Scam'), ({'trigger_words': 0}, 'Valid'), ({'trigger_words': 0}, 'Valid'), ({'trigger_words': 0}, 'Valid'), ({'trigger_words': 3}, 'Scam'), ({'trigger_words': 0}, 'Valid'), ({'trigger_words': 2}, 'Scam'), ({'trigger_words': 0}, 'Valid'), ({'trigger_words': 5}, 'Scam'), ({'trigger_words': 0}, 'Scam'), ({'trigger_words': 0}, 'Scam'), ({'trigger_words': 0}, 'Scam'), ({'trigger_words': 0}, 'Scam'), ({'trigger_words': 0}, 'Valid'), ({'trigger_words': 1}, 'Scam'), ({'trigger_words': 0}, 'Valid'), ({'trigger_words': 1}, 'Scam'), ({'trigger_words': 0}, 'Valid'), ({'trigger_words': 2}, 'Scam'), ({'trigger_words': 2}, 'Scam'), ({'trigger_words': 0}, 'Valid'), ({'trigger_words': 2}, 'Scam'), ({'trigger_words': 0}, 'Scam'), ({'trigger_words': 1}, 'Valid'), ({'trigger_words': 2}, 'Scam'), ({'trigger_words': 0}, 'Scam'), ({'trigger_words': 2}, 'Scam'), ({'trigger_words': 1}, 'Scam'), ({'trigger_words': 0}, 'Scam'), ({'trigger_words': 2}, 'Scam'), ({'trigger_words': 5}, 'Scam'), ({'trigger_words': 0}, 'Scam'), ({'trigger_words': 0}, 'Scam'), ({'trigger_words': 1}, 'Scam'), ({'trigger_words': 3}, 'Scam'), ({'trigger_words': 4}, 'Scam'), ({'trigger_words': 0}, 'Scam'), ({'trigger_words': 0}, 'Scam'), ({'trigger_words': 0}, 'Scam'), ({'trigger_words': 1}, 'Scam'), ({'trigger_words': 2}, 'Scam'), ({'trigger_words': 1}, 'Valid'), ({'trigger_words': 4}, 'Scam'), ({'trigger_words': 4}, 'Scam'), ({'trigger_words': 1}, 'Scam'), ({'trigger_words': 0}, 'Valid'), ({'trigger_words': 3}, 'Scam'), ({'trigger_words': 5}, 'Scam'), ({'trigger_words': 0}, 'Scam'), ({'trigger_words': 2}, 'Scam'), ({'trigger_words': 0}, 'Scam'), ({'trigger_words': 2}, 'Scam')]\n"
     ]
    }
   ],
   "source": [
    "featuresets = [(sus_words_search(keywords, ele1), ele2) for (ele1, ele2) in emails_text ]\n",
    "#print(featuresets)\n",
    "\n",
    "train_set, test_set = train_test_split(featuresets)\n",
    "\n",
    "print(test_set)\n",
    "print(train_set)\n",
    "\n",
    "\n",
    "classifier = nltk.NaiveBayesClassifier.train(train_set)\n",
    "\n",
    "#print(classifier.classify(sus_words_search(keywords,'a;lkdjf;as')))\n",
    "\n",
    "              "
   ]
  },
  {
   "cell_type": "code",
   "execution_count": 273,
   "id": "4c9e83f8",
   "metadata": {},
   "outputs": [
    {
     "name": "stdout",
     "output_type": "stream",
     "text": [
      "Scam\n",
      "Scam\n"
     ]
    }
   ],
   "source": [
    "print(classifier.classify(sus_words_search(keywords,'urgent')))\n",
    "#print(classifier.classify(gender_features('Trinity')))\n",
    "#print(classifier.classify(gender_features('Amy')))\n",
    "#print(classifier.classify(gender_features('Andy')))\n",
    "print(classifier.classify(sus_words_search(keywords,'asdfghjhg000fds')))\n"
   ]
  },
  {
   "cell_type": "code",
   "execution_count": null,
   "id": "0976699f",
   "metadata": {},
   "outputs": [],
   "source": []
  },
  {
   "cell_type": "code",
   "execution_count": 265,
   "id": "0dd9d73b",
   "metadata": {},
   "outputs": [
    {
     "name": "stdout",
     "output_type": "stream",
     "text": [
      "['Scam', 'Valid', 'Scam', 'Valid', 'Scam', 'Scam', 'Valid', 'Scam', 'Scam', 'Scam', 'Scam', 'Scam', 'Scam', 'Scam', 'Scam', 'Valid', 'Valid', 'Scam', 'Scam', 'Scam', 'Scam', 'Scam', 'Scam', 'Valid', 'Scam', 'Scam', 'Valid', 'Scam', 'Scam', 'Scam', 'Scam', 'Scam', 'Scam', 'Scam', 'Valid', 'Valid', 'Scam', 'Scam', 'Valid', 'Scam']\n",
      "p:  [0.75 0.  ] r:  [1. 0.] f:  [0.85714286 0.        ] [30 10]\n"
     ]
    },
    {
     "name": "stderr",
     "output_type": "stream",
     "text": [
      "C:\\Users\\James\\anaconda3\\lib\\site-packages\\sklearn\\metrics\\_classification.py:1318: UndefinedMetricWarning: Precision and F-score are ill-defined and being set to 0.0 in labels with no predicted samples. Use `zero_division` parameter to control this behavior.\n",
      "  _warn_prf(average, modifier, msg_start, len(result))\n"
     ]
    }
   ],
   "source": [
    "\n",
    "y_true = list(list(zip(*test_set))[1])\n",
    "print(y_true)\n",
    "\n",
    "\n",
    "test_features = list(list(zip(*test_set))[0])\n",
    "#print(\"test: \",test_features)\n",
    "\n",
    "y_predict = [classifier.classify(features) for features in test_features]\n",
    "#print(\"predict: \",y_predict,\" true : \",y_true, )\n",
    "\n",
    "(p,r,f,s) = precision_recall_fscore_support(y_true, y_predict)\n",
    "\n",
    "print(\"p: \",p,\"r: \",r,\"f: \",f,s)\n"
   ]
  },
  {
   "cell_type": "code",
   "execution_count": null,
   "id": "2ddbaf8d",
   "metadata": {},
   "outputs": [],
   "source": []
  },
  {
   "cell_type": "code",
   "execution_count": null,
   "id": "ac630f29",
   "metadata": {},
   "outputs": [],
   "source": []
  },
  {
   "cell_type": "code",
   "execution_count": null,
   "id": "6b631425",
   "metadata": {},
   "outputs": [],
   "source": []
  },
  {
   "cell_type": "code",
   "execution_count": null,
   "id": "887a89c9",
   "metadata": {},
   "outputs": [],
   "source": []
  },
  {
   "cell_type": "code",
   "execution_count": null,
   "id": "741eaade",
   "metadata": {},
   "outputs": [],
   "source": []
  },
  {
   "cell_type": "code",
   "execution_count": null,
   "id": "12e0417e",
   "metadata": {},
   "outputs": [],
   "source": []
  }
 ],
 "metadata": {
  "kernelspec": {
   "display_name": "Python 3 (ipykernel)",
   "language": "python",
   "name": "python3"
  },
  "language_info": {
   "codemirror_mode": {
    "name": "ipython",
    "version": 3
   },
   "file_extension": ".py",
   "mimetype": "text/x-python",
   "name": "python",
   "nbconvert_exporter": "python",
   "pygments_lexer": "ipython3",
   "version": "3.9.13"
  }
 },
 "nbformat": 4,
 "nbformat_minor": 5
}
