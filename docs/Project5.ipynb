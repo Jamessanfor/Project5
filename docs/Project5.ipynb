{
 "cells": [
  {
   "cell_type": "code",
   "execution_count": null,
   "id": "f4d549a5",
   "metadata": {},
   "outputs": [],
   "source": [
    "import pandas as pd\n",
    "import numpy as np\n",
    "import seaborn as sns\n",
    "import matplotlib.pyplot as plt\n",
    "from sklearn.model_selection import train_test_split\n",
    "from sklearn.linear_model import LinearRegression\n",
    "import nltk\n",
    "from nltk.corpus import names\n",
    "import random\n",
    "from sklearn.metrics import precision_recall_fscore_support"
   ]
  },
  {
   "cell_type": "code",
   "execution_count": null,
   "id": "1ca94e71",
   "metadata": {},
   "outputs": [],
   "source": [
    "keywords= [\n",
    "\"act now\",\n",
    "\"apply now\",\n",
    "\"apply online\",\n",
    "\"call free\",\n",
    "\"call now\",\n",
    "\"can't live without\",\n",
    "\"do it today\",\n",
    "\"don't delete\",\n",
    "\"don't hesitate\",\n",
    "\"for instant access\",\n",
    "\"for Only\",\n",
    "\"get it now\",\n",
    "\"get started now\",\n",
    "\"great offer\",\n",
    "\"info you requested\",\n",
    "\"information you requested\",\n",
    "\"instant\",\n",
    "\"limited time\",\n",
    "\"new customers only\",\n",
    "\"now only\",\n",
    "\"offer expires\",\n",
    "\"once in lifetime\",\n",
    "\"one time\",\n",
    "\"order now\",\n",
    "\"order today\",\n",
    "\"please read\",\n",
    "\"special promotion\",\n",
    "\"supplies are limited\",\n",
    "\"take action now\",\n",
    "\"time limited\",\n",
    "\"urgent\",\n",
    "\"while supplies last\",\n",
    "\"free\",\n",
    "\"cancel at any time\",\n",
    "\"copy accurately\",\n",
    "\"give it away\",\n",
    "\"print form signature\",\n",
    "\"print out and fax\",\n",
    "\"see for yourself\",\n",
    "\"sign up free today\",\n",
    "\"affordable\",\n",
    "\"bargain\",\n",
    "\"beneficiary\",\n",
    "\"best price\",\n",
    "\"big bucks\",\n",
    "\"cash\",\n",
    "\"cents on the dollar\",\n",
    "\"check\",\n",
    "\"claims\",\n",
    "\"collect\",\n",
    "\"compare rates\",\n",
    "\"cost\",\n",
    "\"credit\",\n",
    "\"credit bureaus\",\n",
    "\"discount\",\n",
    "\"easy terms\",\n",
    "\"fast cash\",\n",
    "\"for just $\",\n",
    "\"hidden assets\",\n",
    "\"hidden charges\",\n",
    "\"income\",\n",
    "\"incredible deal\",\n",
    "\"insurance\",\n",
    "\"investment\",\n",
    "\"loans\",\n",
    "\"lowest price\",\n",
    "\"million dollars\",\n",
    "\"money\",\n",
    "\"mortgage\",\n",
    "\"no cost\",\n",
    "\"no fees\",\n",
    "\"one hundred percent free\",\n",
    "\"only $\",\n",
    "\"pennies a day\",\n",
    "\"price\",\n",
    "\"profits\",\n",
    "\"pure profit\",\n",
    "\"refinance\",\n",
    "\"save $\",\n",
    "\"save big money\",\n",
    "\"save up to\",\n",
    "\"serious cash\",\n",
    "\"subject to credit\",\n",
    "\"they keep your money — no refund!\",\n",
    "\"unsecured credit\",\n",
    "\"unsecured debt\",\n",
    "\"US dollars\"]\n",
    "scam = [\"Fraud\",\"Phishing\",\"Commercial Spam\"]"
   ]
  },
  {
   "cell_type": "code",
   "execution_count": null,
   "id": "d59b8175",
   "metadata": {},
   "outputs": [],
   "source": [
    "df= pd.read_csv('phishing_data_by_type.csv')\n",
    "df.head()"
   ]
  },
  {
   "cell_type": "code",
   "execution_count": null,
   "id": "12065cc4",
   "metadata": {},
   "outputs": [],
   "source": [
    "def sus_words_search(keywords, email):\n",
    "    count=0;\n",
    "    email= email.lower()\n",
    "    for ele in keywords:\n",
    "        if ele in email:\n",
    "            count=count+1\n",
    "             \n",
    "    return {'trigger_words' : str(count)}\n",
    "\n",
    "def ScamOrNot(words, scam_statues ):\n",
    "    res= any(ele in scam_statues for ele in words)\n",
    "    if res == 1 : return  'Scam' \n",
    "    else: return  'Not_Scam' \n",
    "\n",
    "print(sus_words_search( keywords, \"URGent act now!\" ))"
   ]
  },
  {
   "cell_type": "code",
   "execution_count": null,
   "id": "a8ad68c1",
   "metadata": {},
   "outputs": [],
   "source": [
    "temp= df.Text.to_list()\n",
    "temp0=df.Type.to_list()\n",
    "temp1= [ScamOrNot(scam, ele) for (ele) in temp0]\n",
    "emails_text =  list(zip(temp, temp1))"
   ]
  },
  {
   "cell_type": "code",
   "execution_count": null,
   "id": "72a419fc",
   "metadata": {},
   "outputs": [],
   "source": [
    "featuresets = [(sus_words_search(keywords, ele1), ele2) for (ele1, ele2) in emails_text ]\n",
    "train_set, test_set = train_test_split(featuresets,  random_state=0)\n",
    "classifier = nltk.NaiveBayesClassifier.train(train_set)           "
   ]
  },
  {
   "cell_type": "code",
   "execution_count": null,
   "id": "4c9e83f8",
   "metadata": {},
   "outputs": [],
   "source": [
    "print(classifier.classify(sus_words_search(keywords,'urgent')))\n",
    "print(classifier.classify(sus_words_search(keywords,'sdfghjhgfdfghjhgfdfghjkjhgfdfghjkjhgfghjhgfgh')))\n",
    "print(classifier.classify(sus_words_search(keywords,'hello')))"
   ]
  },
  {
   "cell_type": "code",
   "execution_count": null,
   "id": "0dd9d73b",
   "metadata": {},
   "outputs": [],
   "source": [
    "y_true = list(list(zip(*test_set))[1])\n",
    "print(y_true)\n",
    "\n",
    "test_features = list(list(zip(*test_set))[0])\n",
    "y_predict = [classifier.classify(features) for features in test_features]\n",
    "\n",
    "(p,r,f,s) = precision_recall_fscore_support(y_true, y_predict)\n",
    "print(\"p: \",p,\"r: \",r,\"f: \",f,s)"
   ]
  },
  {
   "cell_type": "markdown",
   "id": "1c7a69e8",
   "metadata": {},
   "source": [
    "emails that have no trigger words are more than twice as likely to be a valid email\n",
    "emails that have 2 or more trigger words in them are 3 times as likely to be spam\n",
    "emails that have 1 trigger words in them are as likely to be spam as not.\n",
    "\n"
   ]
  },
  {
   "cell_type": "code",
   "execution_count": null,
   "id": "2ddbaf8d",
   "metadata": {},
   "outputs": [],
   "source": [
    "classifier.show_most_informative_features(5)"
   ]
  },
  {
   "cell_type": "code",
   "execution_count": null,
   "id": "ac630f29",
   "metadata": {
    "scrolled": true
   },
   "outputs": [],
   "source": [
    "histtype=sns.histplot(data=df.Type, shrink=.5)\n",
    "plt.savefig('email-count.pdf')"
   ]
  }
 ],
 "metadata": {
  "kernelspec": {
   "display_name": "Python 3 (ipykernel)",
   "language": "python",
   "name": "python3"
  },
  "language_info": {
   "codemirror_mode": {
    "name": "ipython",
    "version": 3
   },
   "file_extension": ".py",
   "mimetype": "text/x-python",
   "name": "python",
   "nbconvert_exporter": "python",
   "pygments_lexer": "ipython3",
   "version": "3.11.1"
  }
 },
 "nbformat": 4,
 "nbformat_minor": 5
}
